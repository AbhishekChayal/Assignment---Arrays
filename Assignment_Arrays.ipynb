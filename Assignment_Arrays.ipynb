{
 "cells": [
  {
   "cell_type": "markdown",
   "metadata": {},
   "source": [
    "Arrays Assignment Questions"
   ]
  },
  {
   "cell_type": "markdown",
   "metadata": {},
   "source": [
    "1. Given an array, check if it contains any duplicates or not.\n",
    "arr = [1, 2, 4, 2, 5, 9]\n",
    "Output = True"
   ]
  },
  {
   "cell_type": "code",
   "execution_count": 2,
   "metadata": {},
   "outputs": [
    {
     "name": "stdout",
     "output_type": "stream",
     "text": [
      "True\n"
     ]
    }
   ],
   "source": [
    "def contains_duplicate_sort(arr):\n",
    "    arr.sort()\n",
    "    for i in range(1, len(arr)):\n",
    "        if arr[i] == arr[i - 1]:\n",
    "            return True\n",
    "    return False\n",
    "\n",
    "# Test case\n",
    "arr = [1, 2, 4, 2, 5, 9]\n",
    "print(contains_duplicate_sort(arr)) "
   ]
  },
  {
   "cell_type": "markdown",
   "metadata": {},
   "source": [
    "2. Given an array and an integer k, rotate the array to the right by k steps.\n",
    "arr = [1, 2, 3, 4, 5, 6, 7] k = 3\n",
    "Output = [5, 6, 7, 1, 2, 3, 4]"
   ]
  },
  {
   "cell_type": "code",
   "execution_count": 3,
   "metadata": {},
   "outputs": [
    {
     "name": "stdout",
     "output_type": "stream",
     "text": [
      "[5, 6, 7, 1, 2, 3, 4]\n"
     ]
    }
   ],
   "source": [
    "def rotate_array(arr, k):\n",
    "    n = len(arr)\n",
    "    k = k % n  # Handle cases where k is greater than the length of the array\n",
    "    return arr[-k:] + arr[:-k]\n",
    "\n",
    "# Test case\n",
    "arr = [1, 2, 3, 4, 5, 6, 7]\n",
    "k = 3\n",
    "print(rotate_array(arr, k))  \n",
    "\n",
    "def reverse(arr, start, end):\n",
    "    while start < end:\n",
    "        arr[start], arr[end] = arr[end], arr[start]\n",
    "        start += 1\n",
    "        end -= 1\n",
    "\n",
    "def rotate_array_reverse(arr, k):\n",
    "    n = len(arr)\n",
    "    k = k % n  # Handle cases where k is greater than the length of the array\n",
    "    \n",
    "    # Step 1: Reverse the entire array\n",
    "    reverse(arr, 0, n - 1)\n",
    "    \n",
    "    # Step 2: Reverse the first k elements\n",
    "    reverse(arr, 0, k - 1)\n",
    "    \n",
    "    # Step 3: Reverse the remaining elements\n",
    "    reverse(arr, k, n - 1)\n",
    "    \n",
    "    return arr\n",
    "\n",
    "# Test case\n",
    "arr = [1, 2, 3, 4, 5, 6, 7]\n",
    "k = 3\n",
    "print(rotate_array_reverse(arr, k))  # Output: [5, 6, 7, 1, 2, 3, 4]\n",
    "\n"
   ]
  },
  {
   "cell_type": "markdown",
   "metadata": {},
   "source": [
    "3. Reverse the given array in-place, means without using any extra data structure.\n",
    "arr = [2, 4, 5, 7, 9, 12]\n",
    "Output = [12, 9, 7, 5, 4, 2]"
   ]
  },
  {
   "cell_type": "code",
   "execution_count": 4,
   "metadata": {},
   "outputs": [
    {
     "name": "stdout",
     "output_type": "stream",
     "text": [
      "[12, 9, 7, 5, 4, 2]\n"
     ]
    }
   ],
   "source": [
    "def reverse_array(arr):\n",
    "    start = 0\n",
    "    end = len(arr) - 1\n",
    "    \n",
    "    while start < end:\n",
    "        # Swap elements at start and end\n",
    "        arr[start], arr[end] = arr[end], arr[start]\n",
    "        \n",
    "        # Move pointers towards the center\n",
    "        start += 1\n",
    "        end -= 1\n",
    "    \n",
    "    return arr\n",
    "\n",
    "# Test case\n",
    "arr = [2, 4, 5, 7, 9, 12]\n",
    "print(reverse_array(arr))  \n"
   ]
  },
  {
   "cell_type": "markdown",
   "metadata": {},
   "source": [
    "4. Given an array of integers, find the maximum element in an array\n",
    "arr = [10, 5, 20, 8, 15]\n",
    "Output = 20"
   ]
  },
  {
   "cell_type": "code",
   "execution_count": 5,
   "metadata": {},
   "outputs": [
    {
     "name": "stdout",
     "output_type": "stream",
     "text": [
      "20\n"
     ]
    }
   ],
   "source": [
    "def find_maximum(arr):\n",
    "    # Initialize max_element to the first element of the array\n",
    "    max_element = arr[0]\n",
    "    \n",
    "    # Traverse the array from the second element to the last\n",
    "    for num in arr[1:]:\n",
    "        if num > max_element:\n",
    "            max_element = num\n",
    "    \n",
    "    return max_element\n",
    "\n",
    "# Test case\n",
    "arr = [10, 5, 20, 8, 15]\n",
    "print(find_maximum(arr))  \n"
   ]
  },
  {
   "cell_type": "markdown",
   "metadata": {},
   "source": [
    "5. Given a sorted array, remove the duplicate element without using any extra data structure.\n",
    "arr = [1, 1, 2, 2, 2, 3, 3, 4, 4, 4, 5, 5]\n",
    "Output = [1, 2, 3, 4, 5]"
   ]
  },
  {
   "cell_type": "code",
   "execution_count": 6,
   "metadata": {},
   "outputs": [
    {
     "name": "stdout",
     "output_type": "stream",
     "text": [
      "[1, 2, 3, 4, 5]\n"
     ]
    }
   ],
   "source": [
    "def remove_duplicates(arr):\n",
    "    if not arr:\n",
    "        return 0\n",
    "    \n",
    "    # Initialize the slow pointer\n",
    "    i = 0\n",
    "    \n",
    "    # Traverse the array with the fast pointer\n",
    "    for j in range(1, len(arr)):\n",
    "        if arr[j] != arr[i]:  # Found a new unique element\n",
    "            i += 1            # Move the slow pointer\n",
    "            arr[i] = arr[j]   # Update the position with the unique element\n",
    "    \n",
    "    # The length of the array with unique elements is i + 1\n",
    "    return i + 1\n",
    "\n",
    "# Test case\n",
    "arr = [1, 1, 2, 2, 2, 3, 3, 4, 4, 4, 5, 5]\n",
    "new_length = remove_duplicates(arr)\n",
    "\n",
    "# Output the array up to the new length\n",
    "print(arr[:new_length])  # Output: [1, 2, 3, 4, 5]\n"
   ]
  }
 ],
 "metadata": {
  "kernelspec": {
   "display_name": "base",
   "language": "python",
   "name": "python3"
  },
  "language_info": {
   "codemirror_mode": {
    "name": "ipython",
    "version": 3
   },
   "file_extension": ".py",
   "mimetype": "text/x-python",
   "name": "python",
   "nbconvert_exporter": "python",
   "pygments_lexer": "ipython3",
   "version": "3.11.4"
  }
 },
 "nbformat": 4,
 "nbformat_minor": 2
}
